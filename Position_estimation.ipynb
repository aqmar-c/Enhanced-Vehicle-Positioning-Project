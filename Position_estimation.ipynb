{
  "cells": [
    {
      "cell_type": "markdown",
      "id": "b980fb99",
      "metadata": {
        "id": "b980fb99"
      },
      "source": [
        "## Import Tools"
      ]
    },
    {
      "cell_type": "code",
      "execution_count": 1,
      "id": "1d18ad08",
      "metadata": {
        "id": "1d18ad08"
      },
      "outputs": [],
      "source": [
        "import torch\n",
        "import torch.nn as nn\n",
        "import numpy as np\n",
        "import scipy.io\n",
        "import random\n",
        "import math\n",
        "import matplotlib.pyplot as plt\n",
        "import torch.nn.functional as F\n",
        "import os\n",
        "os.environ['KMP_DUPLICATE_LIB_OK']='True'\n",
        "from torch.utils.data import TensorDataset\n",
        "from torch.utils.data import DataLoader\n",
        "from sklearn.metrics import accuracy_score"
      ]
    },
    {
      "cell_type": "markdown",
      "id": "8606c205",
      "metadata": {
        "id": "8606c205"
      },
      "source": [
        "## Dataset Processing"
      ]
    },
    {
      "cell_type": "markdown",
      "id": "4f2dca00",
      "metadata": {
        "id": "4f2dca00"
      },
      "source": [
        "### Read in the original dataset"
      ]
    },
    {
      "cell_type": "code",
      "source": [
        "from google.colab import drive\n",
        "drive.mount('/content/drive')"
      ],
      "metadata": {
        "id": "mWTaVN8FVxXX",
        "outputId": "a20d65b6-80fb-4796-c566-80722021857a",
        "colab": {
          "base_uri": "https://localhost:8080/"
        }
      },
      "id": "mWTaVN8FVxXX",
      "execution_count": 2,
      "outputs": [
        {
          "output_type": "stream",
          "name": "stdout",
          "text": [
            "Mounted at /content/drive\n"
          ]
        }
      ]
    },
    {
      "cell_type": "code",
      "execution_count": 3,
      "id": "58c7763d",
      "metadata": {
        "id": "58c7763d"
      },
      "outputs": [],
      "source": [
        "dataset = '/content/drive/MyDrive/Project 1/Dataset/'\n",
        "train_dl_origin = torch.load(dataset+'train_dl.pt')\n",
        "valid_dl_origin = torch.load(dataset+'valid_dl.pt')\n",
        "\n",
        "train_CSI = train_dl_origin.dataset[:][0]\n",
        "train_label = train_dl_origin.dataset[:][1][:,0:2]\n",
        "\n",
        "valid_CSI = valid_dl_origin.dataset[:][0]\n",
        "valid_label = valid_dl_origin.dataset[:][1][:,0:2]"
      ]
    },
    {
      "cell_type": "markdown",
      "id": "c7566af9",
      "metadata": {
        "id": "c7566af9"
      },
      "source": [
        "### CSI Processing: Take Modulus of complex matrices"
      ]
    },
    {
      "cell_type": "code",
      "execution_count": 4,
      "id": "f91b91df",
      "metadata": {
        "id": "f91b91df"
      },
      "outputs": [],
      "source": [
        "train_CSI_modulus = torch.abs(train_CSI)\n",
        "valid_CSI_modulus = torch.abs(valid_CSI)"
      ]
    },
    {
      "cell_type": "code",
      "execution_count": 5,
      "id": "1257ed76",
      "metadata": {
        "id": "1257ed76",
        "outputId": "0366e6cc-8270-420e-8e05-09dc130056e1",
        "colab": {
          "base_uri": "https://localhost:8080/"
        }
      },
      "outputs": [
        {
          "output_type": "stream",
          "name": "stdout",
          "text": [
            "torch.Size([15000, 1, 4, 1632])\n",
            "torch.Size([5000, 1, 4, 1632])\n",
            "torch.Size([15000, 2])\n"
          ]
        }
      ],
      "source": [
        "print(train_CSI_modulus.shape)\n",
        "print(valid_CSI_modulus.shape)\n",
        "print(train_label.shape)"
      ]
    },
    {
      "cell_type": "markdown",
      "id": "0db9fa7c",
      "metadata": {
        "id": "0db9fa7c"
      },
      "source": [
        "###  CSI Processing: Normalize to [0,1]"
      ]
    },
    {
      "cell_type": "code",
      "source": [
        "from torchvision import transforms\n",
        "\n",
        "# You would typically calculate these values from the training set\n",
        "mean = train_CSI_modulus.mean()\n",
        "std = train_CSI_modulus.std()\n",
        "\n",
        "# Then create a transform to normalize the data\n",
        "normalize = transforms.Normalize(mean.tolist(), std.tolist())\n",
        "\n",
        "# Apply the transform to your data\n",
        "# Note: You need to make sure your data is in the form of a tensor before you can apply the transform\n",
        "train_CSI_modulus_normalized = normalize(train_CSI_modulus)\n",
        "valid_CSI_modulus_normalized = normalize(valid_CSI_modulus)\n",
        "\n",
        "print(train_CSI_modulus_normalized.shape)\n",
        "print(valid_CSI_modulus_normalized.shape)"
      ],
      "metadata": {
        "id": "QHVwPAd_dXkX",
        "outputId": "22d063a5-adbf-456b-f277-01775db26a96",
        "colab": {
          "base_uri": "https://localhost:8080/"
        }
      },
      "id": "QHVwPAd_dXkX",
      "execution_count": 6,
      "outputs": [
        {
          "output_type": "stream",
          "name": "stdout",
          "text": [
            "torch.Size([15000, 1, 4, 1632])\n",
            "torch.Size([5000, 1, 4, 1632])\n"
          ]
        }
      ]
    },
    {
      "cell_type": "markdown",
      "source": [
        "KNN Classifier"
      ],
      "metadata": {
        "id": "-xtYMLjwdpcK"
      },
      "id": "-xtYMLjwdpcK"
    },
    {
      "cell_type": "code",
      "source": [
        "from sklearn.neighbors import KNeighborsRegressor\n",
        "from sklearn.metrics import mean_squared_error\n",
        "import numpy as np\n",
        "\n",
        "# Assuming train_CSI_modulus_normalized and valid_CSI_modulus_normalized are your input features\n",
        "# Reshape the data to 2D array (samples, features) for scikit-learn\n",
        "train_data_flat = train_CSI_modulus_normalized.reshape(train_CSI_modulus_normalized.shape[0], -1)\n",
        "valid_data_flat = valid_CSI_modulus_normalized.reshape(valid_CSI_modulus_normalized.shape[0], -1)\n",
        "\n",
        "# Ensure the data is in numpy format (if they are not already in that format)\n",
        "train_data_flat_np = np.array(train_data_flat)\n",
        "valid_data_flat_np = np.array(valid_data_flat)\n",
        "\n",
        "# No need to flatten the labels since we are doing regression\n",
        "train_labels_np = np.array(train_label)\n",
        "valid_labels_np = np.array(valid_label)\n",
        "\n",
        "# Initialize the KNeighborsRegressor\n",
        "# You can change the number of neighbors and other parameters as needed\n",
        "knn = KNeighborsRegressor(n_neighbors=3)\n",
        "\n",
        "# Fit the model on the training data\n",
        "knn.fit(train_data_flat_np, train_labels_np)\n",
        "\n",
        "# Predict the positions on validation dataset\n",
        "predictions = knn.predict(valid_data_flat_np)\n",
        "\n",
        "# Evaluate the model using a regression metric instead of accuracy\n",
        "# Mean Squared Error (MSE) is a common metric for regression.\n",
        "mse = mean_squared_error(valid_labels_np, predictions)\n"
      ],
      "metadata": {
        "id": "NH17YzhDdrVZ",
        "outputId": "906b29da-66c8-45e1-d1b2-da6a7fe4e974",
        "colab": {
          "base_uri": "https://localhost:8080/"
        }
      },
      "id": "NH17YzhDdrVZ",
      "execution_count": 8,
      "outputs": [
        {
          "output_type": "stream",
          "name": "stdout",
          "text": [
            "Validation MSE: 0.1574225127696991\n"
          ]
        }
      ]
    },
    {
      "cell_type": "code",
      "source": [
        "from sklearn.metrics import mean_squared_error, mean_absolute_error, r2_score\n",
        "\n",
        "# Compute various regression metrics\n",
        "mse = mean_squared_error(valid_labels_np, predictions)\n",
        "rmse = np.sqrt(mse)\n",
        "mae = mean_absolute_error(valid_labels_np, predictions)\n",
        "r2 = r2_score(valid_labels_np, predictions)\n",
        "\n",
        "print(f'Validation MSE: {mse}')\n",
        "print(f'Validation RMSE: {rmse}')\n",
        "print(f'Validation MAE: {mae}')\n",
        "print(f'Validation R-squared: {r2}')"
      ],
      "metadata": {
        "id": "TnF412wrgIX1",
        "outputId": "5d7b650c-8f93-45d9-b2d0-fc8f7442a048",
        "colab": {
          "base_uri": "https://localhost:8080/"
        }
      },
      "id": "TnF412wrgIX1",
      "execution_count": 10,
      "outputs": [
        {
          "output_type": "stream",
          "name": "stdout",
          "text": [
            "Validation MSE: 0.1574225127696991\n",
            "Validation RMSE: 0.3967650532722473\n",
            "Validation MAE: 0.013039417564868927\n",
            "Validation R-squared: 0.9986344028537879\n"
          ]
        }
      ]
    },
    {
      "cell_type": "markdown",
      "source": [
        "ANN Model"
      ],
      "metadata": {
        "id": "KWghNf2bgS9t"
      },
      "id": "KWghNf2bgS9t"
    },
    {
      "cell_type": "code",
      "source": [
        "!pip install tensorflow\n"
      ],
      "metadata": {
        "id": "96Dd_gqAgxEX",
        "outputId": "f919dd4c-49f8-47ae-eab6-3bad1f69334d",
        "colab": {
          "base_uri": "https://localhost:8080/"
        }
      },
      "id": "96Dd_gqAgxEX",
      "execution_count": 11,
      "outputs": [
        {
          "output_type": "stream",
          "name": "stdout",
          "text": [
            "Requirement already satisfied: tensorflow in /usr/local/lib/python3.10/dist-packages (2.14.0)\n",
            "Requirement already satisfied: absl-py>=1.0.0 in /usr/local/lib/python3.10/dist-packages (from tensorflow) (1.4.0)\n",
            "Requirement already satisfied: astunparse>=1.6.0 in /usr/local/lib/python3.10/dist-packages (from tensorflow) (1.6.3)\n",
            "Requirement already satisfied: flatbuffers>=23.5.26 in /usr/local/lib/python3.10/dist-packages (from tensorflow) (23.5.26)\n",
            "Requirement already satisfied: gast!=0.5.0,!=0.5.1,!=0.5.2,>=0.2.1 in /usr/local/lib/python3.10/dist-packages (from tensorflow) (0.5.4)\n",
            "Requirement already satisfied: google-pasta>=0.1.1 in /usr/local/lib/python3.10/dist-packages (from tensorflow) (0.2.0)\n",
            "Requirement already satisfied: h5py>=2.9.0 in /usr/local/lib/python3.10/dist-packages (from tensorflow) (3.9.0)\n",
            "Requirement already satisfied: libclang>=13.0.0 in /usr/local/lib/python3.10/dist-packages (from tensorflow) (16.0.6)\n",
            "Requirement already satisfied: ml-dtypes==0.2.0 in /usr/local/lib/python3.10/dist-packages (from tensorflow) (0.2.0)\n",
            "Requirement already satisfied: numpy>=1.23.5 in /usr/local/lib/python3.10/dist-packages (from tensorflow) (1.23.5)\n",
            "Requirement already satisfied: opt-einsum>=2.3.2 in /usr/local/lib/python3.10/dist-packages (from tensorflow) (3.3.0)\n",
            "Requirement already satisfied: packaging in /usr/local/lib/python3.10/dist-packages (from tensorflow) (23.2)\n",
            "Requirement already satisfied: protobuf!=4.21.0,!=4.21.1,!=4.21.2,!=4.21.3,!=4.21.4,!=4.21.5,<5.0.0dev,>=3.20.3 in /usr/local/lib/python3.10/dist-packages (from tensorflow) (3.20.3)\n",
            "Requirement already satisfied: setuptools in /usr/local/lib/python3.10/dist-packages (from tensorflow) (67.7.2)\n",
            "Requirement already satisfied: six>=1.12.0 in /usr/local/lib/python3.10/dist-packages (from tensorflow) (1.16.0)\n",
            "Requirement already satisfied: termcolor>=1.1.0 in /usr/local/lib/python3.10/dist-packages (from tensorflow) (2.3.0)\n",
            "Requirement already satisfied: typing-extensions>=3.6.6 in /usr/local/lib/python3.10/dist-packages (from tensorflow) (4.5.0)\n",
            "Requirement already satisfied: wrapt<1.15,>=1.11.0 in /usr/local/lib/python3.10/dist-packages (from tensorflow) (1.14.1)\n",
            "Requirement already satisfied: tensorflow-io-gcs-filesystem>=0.23.1 in /usr/local/lib/python3.10/dist-packages (from tensorflow) (0.34.0)\n",
            "Requirement already satisfied: grpcio<2.0,>=1.24.3 in /usr/local/lib/python3.10/dist-packages (from tensorflow) (1.59.2)\n",
            "Requirement already satisfied: tensorboard<2.15,>=2.14 in /usr/local/lib/python3.10/dist-packages (from tensorflow) (2.14.1)\n",
            "Requirement already satisfied: tensorflow-estimator<2.15,>=2.14.0 in /usr/local/lib/python3.10/dist-packages (from tensorflow) (2.14.0)\n",
            "Requirement already satisfied: keras<2.15,>=2.14.0 in /usr/local/lib/python3.10/dist-packages (from tensorflow) (2.14.0)\n",
            "Requirement already satisfied: wheel<1.0,>=0.23.0 in /usr/local/lib/python3.10/dist-packages (from astunparse>=1.6.0->tensorflow) (0.41.3)\n",
            "Requirement already satisfied: google-auth<3,>=1.6.3 in /usr/local/lib/python3.10/dist-packages (from tensorboard<2.15,>=2.14->tensorflow) (2.17.3)\n",
            "Requirement already satisfied: google-auth-oauthlib<1.1,>=0.5 in /usr/local/lib/python3.10/dist-packages (from tensorboard<2.15,>=2.14->tensorflow) (1.0.0)\n",
            "Requirement already satisfied: markdown>=2.6.8 in /usr/local/lib/python3.10/dist-packages (from tensorboard<2.15,>=2.14->tensorflow) (3.5.1)\n",
            "Requirement already satisfied: requests<3,>=2.21.0 in /usr/local/lib/python3.10/dist-packages (from tensorboard<2.15,>=2.14->tensorflow) (2.31.0)\n",
            "Requirement already satisfied: tensorboard-data-server<0.8.0,>=0.7.0 in /usr/local/lib/python3.10/dist-packages (from tensorboard<2.15,>=2.14->tensorflow) (0.7.2)\n",
            "Requirement already satisfied: werkzeug>=1.0.1 in /usr/local/lib/python3.10/dist-packages (from tensorboard<2.15,>=2.14->tensorflow) (3.0.1)\n",
            "Requirement already satisfied: cachetools<6.0,>=2.0.0 in /usr/local/lib/python3.10/dist-packages (from google-auth<3,>=1.6.3->tensorboard<2.15,>=2.14->tensorflow) (5.3.2)\n",
            "Requirement already satisfied: pyasn1-modules>=0.2.1 in /usr/local/lib/python3.10/dist-packages (from google-auth<3,>=1.6.3->tensorboard<2.15,>=2.14->tensorflow) (0.3.0)\n",
            "Requirement already satisfied: rsa<5,>=3.1.4 in /usr/local/lib/python3.10/dist-packages (from google-auth<3,>=1.6.3->tensorboard<2.15,>=2.14->tensorflow) (4.9)\n",
            "Requirement already satisfied: requests-oauthlib>=0.7.0 in /usr/local/lib/python3.10/dist-packages (from google-auth-oauthlib<1.1,>=0.5->tensorboard<2.15,>=2.14->tensorflow) (1.3.1)\n",
            "Requirement already satisfied: charset-normalizer<4,>=2 in /usr/local/lib/python3.10/dist-packages (from requests<3,>=2.21.0->tensorboard<2.15,>=2.14->tensorflow) (3.3.2)\n",
            "Requirement already satisfied: idna<4,>=2.5 in /usr/local/lib/python3.10/dist-packages (from requests<3,>=2.21.0->tensorboard<2.15,>=2.14->tensorflow) (3.4)\n",
            "Requirement already satisfied: urllib3<3,>=1.21.1 in /usr/local/lib/python3.10/dist-packages (from requests<3,>=2.21.0->tensorboard<2.15,>=2.14->tensorflow) (2.0.7)\n",
            "Requirement already satisfied: certifi>=2017.4.17 in /usr/local/lib/python3.10/dist-packages (from requests<3,>=2.21.0->tensorboard<2.15,>=2.14->tensorflow) (2023.7.22)\n",
            "Requirement already satisfied: MarkupSafe>=2.1.1 in /usr/local/lib/python3.10/dist-packages (from werkzeug>=1.0.1->tensorboard<2.15,>=2.14->tensorflow) (2.1.3)\n",
            "Requirement already satisfied: pyasn1<0.6.0,>=0.4.6 in /usr/local/lib/python3.10/dist-packages (from pyasn1-modules>=0.2.1->google-auth<3,>=1.6.3->tensorboard<2.15,>=2.14->tensorflow) (0.5.0)\n",
            "Requirement already satisfied: oauthlib>=3.0.0 in /usr/local/lib/python3.10/dist-packages (from requests-oauthlib>=0.7.0->google-auth-oauthlib<1.1,>=0.5->tensorboard<2.15,>=2.14->tensorflow) (3.2.2)\n"
          ]
        }
      ]
    },
    {
      "cell_type": "code",
      "source": [
        "from tensorflow import keras\n",
        "from tensorflow.keras import layers\n",
        "from sklearn.metrics import mean_squared_error, r2_score\n",
        "\n",
        "# Assuming you have your training and validation data ready as `train_data_flat_np` and `valid_data_flat_np`\n",
        "# And the labels as `train_labels_np` and `valid_labels_np`\n",
        "\n",
        "# Define the model\n",
        "model = keras.Sequential([\n",
        "    layers.Dense(64, activation='relu', input_shape=(train_data_flat_np.shape[1],)),\n",
        "    layers.Dense(64, activation='relu'),\n",
        "    layers.Dense(2)  # Output layer with 2 neurons for the x and y coordinates\n",
        "])\n",
        "\n",
        "# Compile the model\n",
        "model.compile(optimizer='adam', loss='mean_squared_error')\n",
        "\n",
        "# Fit the model\n",
        "history = model.fit(train_data_flat_np, train_labels_np, epochs=100, batch_size=32, validation_split=0.1, verbose=1)\n",
        "\n",
        "# Predict the positions on validation dataset\n",
        "predictions = model.predict(valid_data_flat_np)\n",
        "\n",
        "# Compute various regression metrics\n",
        "mse = mean_squared_error(valid_labels_np, predictions)\n",
        "r2 = r2_score(valid_labels_np, predictions)\n",
        "\n",
        "print(f'Validation MSE: {mse}')\n",
        "print(f'Validation R-squared: {r2}')\n",
        "\n",
        "# If you wish to monitor the training process for overfitting or underfitting,\n",
        "# you can plot the training loss and the validation loss over epochs.\n",
        "import matplotlib.pyplot as plt\n",
        "\n",
        "plt.figure(figsize=(10, 4))\n",
        "plt.subplot(1, 2, 1)\n",
        "plt.plot(history.history['loss'], label='Training Loss')\n",
        "plt.plot(history.history['val_loss'], label='Validation Loss')\n",
        "plt.legend()\n",
        "plt.title('Training and Validation Loss Over Epochs')\n",
        "plt.xlabel('Epochs')\n",
        "plt.ylabel('Loss')\n",
        "plt.show()\n"
      ],
      "metadata": {
        "id": "spZHi7A7gOhT",
        "outputId": "7c3a2e2d-7f65-446a-b757-5d8821e5afe0",
        "colab": {
          "base_uri": "https://localhost:8080/",
          "height": 1000
        }
      },
      "id": "spZHi7A7gOhT",
      "execution_count": 12,
      "outputs": [
        {
          "output_type": "stream",
          "name": "stdout",
          "text": [
            "Epoch 1/100\n",
            "422/422 [==============================] - 8s 12ms/step - loss: 47.2460 - val_loss: 31.7594\n",
            "Epoch 2/100\n",
            "422/422 [==============================] - 5s 11ms/step - loss: 26.5378 - val_loss: 19.7996\n",
            "Epoch 3/100\n",
            "422/422 [==============================] - 3s 8ms/step - loss: 18.7742 - val_loss: 14.0404\n",
            "Epoch 4/100\n",
            "422/422 [==============================] - 3s 8ms/step - loss: 14.2944 - val_loss: 14.9076\n",
            "Epoch 5/100\n",
            "422/422 [==============================] - 4s 9ms/step - loss: 12.8383 - val_loss: 13.2488\n",
            "Epoch 6/100\n",
            "422/422 [==============================] - 4s 10ms/step - loss: 10.3638 - val_loss: 9.2720\n",
            "Epoch 7/100\n",
            "422/422 [==============================] - 3s 8ms/step - loss: 10.1679 - val_loss: 11.7705\n",
            "Epoch 8/100\n",
            "422/422 [==============================] - 3s 8ms/step - loss: 9.1101 - val_loss: 7.3323\n",
            "Epoch 9/100\n",
            "422/422 [==============================] - 4s 9ms/step - loss: 7.5845 - val_loss: 10.7372\n",
            "Epoch 10/100\n",
            "422/422 [==============================] - 4s 10ms/step - loss: 7.2367 - val_loss: 6.6868\n",
            "Epoch 11/100\n",
            "422/422 [==============================] - 3s 8ms/step - loss: 7.3394 - val_loss: 4.9546\n",
            "Epoch 12/100\n",
            "422/422 [==============================] - 3s 8ms/step - loss: 5.9662 - val_loss: 6.1330\n",
            "Epoch 13/100\n",
            "422/422 [==============================] - 4s 9ms/step - loss: 5.8927 - val_loss: 4.9765\n",
            "Epoch 14/100\n",
            "422/422 [==============================] - 4s 10ms/step - loss: 5.8975 - val_loss: 5.7229\n",
            "Epoch 15/100\n",
            "422/422 [==============================] - 3s 8ms/step - loss: 5.3530 - val_loss: 4.2835\n",
            "Epoch 16/100\n",
            "422/422 [==============================] - 3s 8ms/step - loss: 4.8992 - val_loss: 4.5517\n",
            "Epoch 17/100\n",
            "422/422 [==============================] - 4s 9ms/step - loss: 5.2585 - val_loss: 3.7580\n",
            "Epoch 18/100\n",
            "422/422 [==============================] - 4s 10ms/step - loss: 4.7089 - val_loss: 5.3250\n",
            "Epoch 19/100\n",
            "422/422 [==============================] - 3s 8ms/step - loss: 4.2594 - val_loss: 3.2747\n",
            "Epoch 20/100\n",
            "422/422 [==============================] - 3s 8ms/step - loss: 3.9211 - val_loss: 5.2881\n",
            "Epoch 21/100\n",
            "422/422 [==============================] - 4s 10ms/step - loss: 4.2830 - val_loss: 3.1989\n",
            "Epoch 22/100\n",
            "422/422 [==============================] - 4s 10ms/step - loss: 3.9746 - val_loss: 3.5807\n",
            "Epoch 23/100\n",
            "422/422 [==============================] - 3s 8ms/step - loss: 3.8699 - val_loss: 5.7578\n",
            "Epoch 24/100\n",
            "422/422 [==============================] - 3s 8ms/step - loss: 4.5668 - val_loss: 4.9413\n",
            "Epoch 25/100\n",
            "422/422 [==============================] - 4s 10ms/step - loss: 3.5628 - val_loss: 3.7915\n",
            "Epoch 26/100\n",
            "422/422 [==============================] - 4s 10ms/step - loss: 3.3057 - val_loss: 3.2064\n",
            "Epoch 27/100\n",
            "422/422 [==============================] - 5s 11ms/step - loss: 2.9984 - val_loss: 2.5304\n",
            "Epoch 28/100\n",
            "422/422 [==============================] - 4s 9ms/step - loss: 3.1305 - val_loss: 6.7276\n",
            "Epoch 29/100\n",
            "422/422 [==============================] - 5s 11ms/step - loss: 3.2812 - val_loss: 5.3734\n",
            "Epoch 30/100\n",
            "422/422 [==============================] - 3s 8ms/step - loss: 3.0414 - val_loss: 2.2300\n",
            "Epoch 31/100\n",
            "422/422 [==============================] - 3s 8ms/step - loss: 3.3128 - val_loss: 4.0447\n",
            "Epoch 32/100\n",
            "422/422 [==============================] - 3s 8ms/step - loss: 3.0420 - val_loss: 3.7488\n",
            "Epoch 33/100\n",
            "422/422 [==============================] - 5s 11ms/step - loss: 3.2967 - val_loss: 3.4800\n",
            "Epoch 34/100\n",
            "422/422 [==============================] - 3s 8ms/step - loss: 2.8602 - val_loss: 1.7628\n",
            "Epoch 35/100\n",
            "422/422 [==============================] - 3s 8ms/step - loss: 3.1443 - val_loss: 1.8220\n",
            "Epoch 36/100\n",
            "422/422 [==============================] - 3s 8ms/step - loss: 2.5468 - val_loss: 3.0758\n",
            "Epoch 37/100\n",
            "422/422 [==============================] - 5s 11ms/step - loss: 2.3518 - val_loss: 3.2204\n",
            "Epoch 38/100\n",
            "422/422 [==============================] - 3s 8ms/step - loss: 2.2287 - val_loss: 3.7296\n",
            "Epoch 39/100\n",
            "422/422 [==============================] - 3s 8ms/step - loss: 2.6999 - val_loss: 1.9825\n",
            "Epoch 40/100\n",
            "422/422 [==============================] - 4s 8ms/step - loss: 2.5464 - val_loss: 2.9903\n",
            "Epoch 41/100\n",
            "422/422 [==============================] - 5s 11ms/step - loss: 2.4243 - val_loss: 3.7303\n",
            "Epoch 42/100\n",
            "422/422 [==============================] - 3s 8ms/step - loss: 2.0474 - val_loss: 1.5286\n",
            "Epoch 43/100\n",
            "422/422 [==============================] - 3s 8ms/step - loss: 2.1664 - val_loss: 2.6991\n",
            "Epoch 44/100\n",
            "422/422 [==============================] - 4s 8ms/step - loss: 1.9981 - val_loss: 2.7439\n",
            "Epoch 45/100\n",
            "422/422 [==============================] - 4s 11ms/step - loss: 1.7771 - val_loss: 2.1238\n",
            "Epoch 46/100\n",
            "422/422 [==============================] - 3s 8ms/step - loss: 2.8478 - val_loss: 3.2403\n",
            "Epoch 47/100\n",
            "422/422 [==============================] - 3s 8ms/step - loss: 2.1524 - val_loss: 3.6351\n",
            "Epoch 48/100\n",
            "422/422 [==============================] - 4s 9ms/step - loss: 2.3268 - val_loss: 1.7253\n",
            "Epoch 49/100\n",
            "422/422 [==============================] - 4s 10ms/step - loss: 1.4285 - val_loss: 1.7129\n",
            "Epoch 50/100\n",
            "422/422 [==============================] - 3s 8ms/step - loss: 1.8880 - val_loss: 1.4565\n",
            "Epoch 51/100\n",
            "422/422 [==============================] - 3s 8ms/step - loss: 2.1369 - val_loss: 1.8701\n",
            "Epoch 52/100\n",
            "422/422 [==============================] - 4s 9ms/step - loss: 1.7081 - val_loss: 1.4027\n",
            "Epoch 53/100\n",
            "422/422 [==============================] - 4s 10ms/step - loss: 1.8491 - val_loss: 1.6641\n",
            "Epoch 54/100\n",
            "422/422 [==============================] - 3s 8ms/step - loss: 1.8959 - val_loss: 1.7881\n",
            "Epoch 55/100\n",
            "422/422 [==============================] - 3s 8ms/step - loss: 1.8185 - val_loss: 2.2005\n",
            "Epoch 56/100\n",
            "422/422 [==============================] - 4s 10ms/step - loss: 1.6544 - val_loss: 1.3879\n",
            "Epoch 57/100\n",
            "422/422 [==============================] - 4s 10ms/step - loss: 1.8025 - val_loss: 7.8650\n",
            "Epoch 58/100\n",
            "422/422 [==============================] - 3s 8ms/step - loss: 2.9968 - val_loss: 2.4117\n",
            "Epoch 59/100\n",
            "422/422 [==============================] - 3s 8ms/step - loss: 1.6242 - val_loss: 1.3812\n",
            "Epoch 60/100\n",
            "422/422 [==============================] - 4s 10ms/step - loss: 1.9292 - val_loss: 3.6390\n",
            "Epoch 61/100\n",
            "422/422 [==============================] - 4s 10ms/step - loss: 1.8783 - val_loss: 2.3030\n",
            "Epoch 62/100\n",
            "422/422 [==============================] - 3s 8ms/step - loss: 1.4887 - val_loss: 1.7892\n",
            "Epoch 63/100\n",
            "422/422 [==============================] - 3s 8ms/step - loss: 1.4971 - val_loss: 1.1848\n",
            "Epoch 64/100\n",
            "422/422 [==============================] - 4s 10ms/step - loss: 1.4650 - val_loss: 1.5574\n",
            "Epoch 65/100\n",
            "422/422 [==============================] - 4s 9ms/step - loss: 1.6176 - val_loss: 1.0939\n",
            "Epoch 66/100\n",
            "422/422 [==============================] - 3s 8ms/step - loss: 1.9016 - val_loss: 1.6905\n",
            "Epoch 67/100\n",
            "422/422 [==============================] - 3s 8ms/step - loss: 1.8372 - val_loss: 2.5592\n",
            "Epoch 68/100\n",
            "422/422 [==============================] - 4s 10ms/step - loss: 1.2868 - val_loss: 2.1709\n",
            "Epoch 69/100\n",
            "422/422 [==============================] - 4s 9ms/step - loss: 1.7126 - val_loss: 2.5220\n",
            "Epoch 70/100\n",
            "422/422 [==============================] - 3s 8ms/step - loss: 1.5146 - val_loss: 1.4385\n",
            "Epoch 71/100\n",
            "422/422 [==============================] - 3s 8ms/step - loss: 1.3225 - val_loss: 3.9787\n",
            "Epoch 72/100\n",
            "422/422 [==============================] - 5s 11ms/step - loss: 1.2214 - val_loss: 1.7367\n",
            "Epoch 73/100\n",
            "422/422 [==============================] - 4s 9ms/step - loss: 1.2614 - val_loss: 1.8031\n",
            "Epoch 74/100\n",
            "422/422 [==============================] - 3s 8ms/step - loss: 1.6420 - val_loss: 1.0370\n",
            "Epoch 75/100\n",
            "422/422 [==============================] - 3s 8ms/step - loss: 1.5462 - val_loss: 1.1605\n",
            "Epoch 76/100\n",
            "422/422 [==============================] - 5s 12ms/step - loss: 1.3268 - val_loss: 1.3573\n",
            "Epoch 77/100\n",
            "422/422 [==============================] - 3s 8ms/step - loss: 1.9445 - val_loss: 1.2939\n",
            "Epoch 78/100\n",
            "422/422 [==============================] - 3s 8ms/step - loss: 1.1219 - val_loss: 0.9106\n",
            "Epoch 79/100\n",
            "422/422 [==============================] - 4s 9ms/step - loss: 1.1719 - val_loss: 1.2221\n",
            "Epoch 80/100\n",
            "422/422 [==============================] - 5s 11ms/step - loss: 1.5459 - val_loss: 1.0928\n",
            "Epoch 81/100\n",
            "422/422 [==============================] - 3s 8ms/step - loss: 1.1404 - val_loss: 2.5171\n",
            "Epoch 82/100\n",
            "422/422 [==============================] - 3s 8ms/step - loss: 1.4062 - val_loss: 1.2945\n",
            "Epoch 83/100\n",
            "422/422 [==============================] - 4s 9ms/step - loss: 1.3448 - val_loss: 0.9520\n",
            "Epoch 84/100\n",
            "422/422 [==============================] - 4s 11ms/step - loss: 1.0402 - val_loss: 1.6401\n",
            "Epoch 85/100\n",
            "422/422 [==============================] - 3s 8ms/step - loss: 1.3079 - val_loss: 0.8683\n",
            "Epoch 86/100\n",
            "422/422 [==============================] - 3s 8ms/step - loss: 1.0366 - val_loss: 1.1665\n",
            "Epoch 87/100\n",
            "422/422 [==============================] - 4s 10ms/step - loss: 1.0327 - val_loss: 1.3396\n",
            "Epoch 88/100\n",
            "422/422 [==============================] - 4s 10ms/step - loss: 1.1783 - val_loss: 0.9726\n",
            "Epoch 89/100\n",
            "422/422 [==============================] - 4s 8ms/step - loss: 1.4866 - val_loss: 1.6560\n",
            "Epoch 90/100\n",
            "422/422 [==============================] - 3s 8ms/step - loss: 1.1102 - val_loss: 0.9574\n",
            "Epoch 91/100\n",
            "422/422 [==============================] - 5s 11ms/step - loss: 0.7383 - val_loss: 2.7510\n",
            "Epoch 92/100\n",
            "422/422 [==============================] - 4s 9ms/step - loss: 1.2246 - val_loss: 1.3940\n",
            "Epoch 93/100\n",
            "422/422 [==============================] - 3s 8ms/step - loss: 1.2991 - val_loss: 1.0275\n",
            "Epoch 94/100\n",
            "422/422 [==============================] - 3s 8ms/step - loss: 1.1824 - val_loss: 1.9564\n",
            "Epoch 95/100\n",
            "422/422 [==============================] - 4s 11ms/step - loss: 1.2708 - val_loss: 1.7110\n",
            "Epoch 96/100\n",
            "422/422 [==============================] - 4s 8ms/step - loss: 1.2781 - val_loss: 3.3160\n",
            "Epoch 97/100\n",
            "422/422 [==============================] - 3s 8ms/step - loss: 1.6767 - val_loss: 2.1146\n",
            "Epoch 98/100\n",
            "422/422 [==============================] - 3s 8ms/step - loss: 1.4740 - val_loss: 1.1488\n",
            "Epoch 99/100\n",
            "422/422 [==============================] - 5s 11ms/step - loss: 1.3116 - val_loss: 0.9450\n",
            "Epoch 100/100\n",
            "422/422 [==============================] - 3s 8ms/step - loss: 1.1937 - val_loss: 1.8928\n",
            "157/157 [==============================] - 1s 3ms/step\n",
            "Validation MSE: 1.9759917259216309\n",
            "Validation R-squared: 0.9750098417347564\n"
          ]
        },
        {
          "output_type": "display_data",
          "data": {
            "text/plain": [
              "<Figure size 1000x400 with 1 Axes>"
            ],
            "image/png": "[encoded data removed]"
          },
          "metadata": {}
        }
      ]
    }
  ],
  "metadata": {
    "kernelspec": {
      "display_name": "Python 3",
      "language": "python",
      "name": "python3"
    },
    "language_info": {
      "codemirror_mode": {
        "name": "ipython",
        "version": 3
      },
      "file_extension": ".py",
      "mimetype": "text/x-python",
      "name": "python",
      "nbconvert_exporter": "python",
      "pygments_lexer": "ipython3",
      "version": "3.9.17"
    },
    "colab": {
      "provenance": []
    }
  },
  "nbformat": 4,
  "nbformat_minor": 5
}