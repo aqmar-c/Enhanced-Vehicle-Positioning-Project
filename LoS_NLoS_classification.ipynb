{
  "cells": [
    {
      "cell_type": "markdown",
      "id": "b980fb99",
      "metadata": {
        "id": "b980fb99"
      },
      "source": [
        "## Import Tools"
      ]
    },
    {
      "cell_type": "code",
      "execution_count": 1,
      "id": "1d18ad08",
      "metadata": {
        "id": "1d18ad08"
      },
      "outputs": [],
      "source": [
        "import torch\n",
        "import torch.nn as nn\n",
        "import numpy as np\n",
        "import scipy.io\n",
        "import random\n",
        "import math\n",
        "import matplotlib.pyplot as plt\n",
        "import torch.nn.functional as F\n",
        "import os\n",
        "import seaborn as sn\n",
        "import pandas as pd\n",
        "os.environ['KMP_DUPLICATE_LIB_OK']='True'\n",
        "\n",
        "from torch.utils.data import TensorDataset\n",
        "from torch.utils.data import DataLoader\n",
        "from sklearn.metrics import accuracy_score"
      ]
    },
    {
      "cell_type": "markdown",
      "id": "8606c205",
      "metadata": {
        "id": "8606c205"
      },
      "source": [
        "## Dataset Processing"
      ]
    },
    {
      "cell_type": "markdown",
      "id": "4f2dca00",
      "metadata": {
        "id": "4f2dca00"
      },
      "source": [
        "### Read in the original dataset"
      ]
    },
    {
      "cell_type": "code",
      "source": [
        "from google.colab import drive\n",
        "drive.mount('/content/drive')"
      ],
      "metadata": {
        "id": "8yWEjQE4KfWY",
        "outputId": "a3e4cada-a8bf-48fb-a03c-c4f6c28e9217",
        "colab": {
          "base_uri": "https://localhost:8080/"
        }
      },
      "id": "8yWEjQE4KfWY",
      "execution_count": 2,
      "outputs": [
        {
          "output_type": "stream",
          "name": "stdout",
          "text": [
            "Mounted at /content/drive\n"
          ]
        }
      ]
    },
    {
      "cell_type": "code",
      "execution_count": 3,
      "id": "58c7763d",
      "metadata": {
        "id": "58c7763d"
      },
      "outputs": [],
      "source": [
        "dataset = '/content/drive/MyDrive/Project 1/Dataset/'\n",
        "train_dl_origin = torch.load(dataset+'train_dl.pt')\n",
        "valid_dl_origin = torch.load(dataset+'valid_dl.pt')\n",
        "\n",
        "train_CSI = train_dl_origin.dataset[:][0]\n",
        "train_label = train_dl_origin.dataset[:][1][:,2].type(torch.LongTensor)\n",
        "\n",
        "valid_CSI = valid_dl_origin.dataset[:][0]\n",
        "valid_label = valid_dl_origin.dataset[:][1][:,2].type(torch.LongTensor)"
      ]
    },
    {
      "cell_type": "code",
      "execution_count": null,
      "id": "fcb5950e",
      "metadata": {
        "id": "fcb5950e"
      },
      "outputs": [],
      "source": []
    },
    {
      "cell_type": "markdown",
      "id": "c7566af9",
      "metadata": {
        "id": "c7566af9"
      },
      "source": [
        "### CSI Processing: Take Modulus of complex matrices"
      ]
    },
    {
      "cell_type": "code",
      "execution_count": 4,
      "id": "f91b91df",
      "metadata": {
        "id": "f91b91df"
      },
      "outputs": [],
      "source": [
        "train_CSI_modulus = torch.abs(train_CSI)\n",
        "valid_CSI_modulus = torch.abs(valid_CSI)"
      ]
    },
    {
      "cell_type": "code",
      "execution_count": 5,
      "id": "631db329",
      "metadata": {
        "id": "631db329",
        "outputId": "a0f056c0-6855-4f02-b02a-9bde6cb96fc5",
        "colab": {
          "base_uri": "https://localhost:8080/"
        }
      },
      "outputs": [
        {
          "output_type": "stream",
          "name": "stdout",
          "text": [
            "torch.Size([15000, 1, 4, 1632])\n",
            "torch.Size([5000, 1, 4, 1632])\n"
          ]
        }
      ],
      "source": [
        "print(train_CSI_modulus.shape)\n",
        "print(valid_CSI_modulus.shape)"
      ]
    },
    {
      "cell_type": "markdown",
      "id": "0db9fa7c",
      "metadata": {
        "id": "0db9fa7c"
      },
      "source": [
        "###  CSI Processing: Normalize to [0,1]"
      ]
    },
    {
      "cell_type": "code",
      "source": [
        "from torchvision import transforms\n",
        "\n",
        "# You would typically calculate these values from the training set\n",
        "mean = train_CSI_modulus.mean()\n",
        "std = train_CSI_modulus.std()\n",
        "\n",
        "# Then create a transform to normalize the data\n",
        "normalize = transforms.Normalize(mean.tolist(), std.tolist())\n",
        "\n",
        "# Apply the transform to your data\n",
        "# Note: You need to make sure your data is in the form of a tensor before you can apply the transform\n",
        "train_CSI_modulus_normalized = normalize(train_CSI_modulus)\n",
        "valid_CSI_modulus_normalized = normalize(valid_CSI_modulus)\n"
      ],
      "metadata": {
        "id": "Iez-wNAqLmvH"
      },
      "id": "Iez-wNAqLmvH",
      "execution_count": 6,
      "outputs": []
    },
    {
      "cell_type": "code",
      "source": [
        "print(train_CSI_modulus_normalized.shape)\n",
        "print(valid_CSI_modulus_normalized.shape)"
      ],
      "metadata": {
        "id": "ddH9QdbgLquT",
        "outputId": "daa7d1bd-a92b-41ce-e1a0-e077ee923f99",
        "colab": {
          "base_uri": "https://localhost:8080/"
        }
      },
      "id": "ddH9QdbgLquT",
      "execution_count": 7,
      "outputs": [
        {
          "output_type": "stream",
          "name": "stdout",
          "text": [
            "torch.Size([15000, 1, 4, 1632])\n",
            "torch.Size([5000, 1, 4, 1632])\n"
          ]
        }
      ]
    },
    {
      "cell_type": "markdown",
      "source": [
        "KNN Classifier"
      ],
      "metadata": {
        "id": "_TttdrK8Mk08"
      },
      "id": "_TttdrK8Mk08"
    },
    {
      "cell_type": "code",
      "source": [
        "from sklearn.neighbors import KNeighborsClassifier\n",
        "from sklearn.metrics import accuracy_score\n",
        "import numpy as np\n",
        "\n",
        "# Reshape the data to 2D array (samples, features) for scikit-learn\n",
        "train_data_flat = train_CSI_modulus_normalized.reshape(train_CSI_modulus_normalized.shape[0], -1)\n",
        "valid_data_flat = valid_CSI_modulus_normalized.reshape(valid_CSI_modulus_normalized.shape[0], -1)\n",
        "\n",
        "# Ensure the data is in numpy format\n",
        "train_data_flat_np = train_data_flat.numpy()\n",
        "valid_data_flat_np = valid_data_flat.numpy()\n",
        "\n",
        "# Ensure the labels are also flattened if they are one-hot encoded or in tensor format\n",
        "# If they are already flat and in numpy format, you can skip this step\n",
        "train_labels_np = train_label.numpy().flatten()\n",
        "valid_labels_np = valid_label.numpy().flatten()\n",
        "\n",
        "# Initialize the KNeighborsClassifier\n",
        "# You can change the number of neighbors and other parameters as needed\n",
        "knn = KNeighborsClassifier(n_neighbors=3)\n",
        "\n",
        "# Fit the model on the training data\n",
        "knn.fit(train_data_flat_np, train_labels_np)\n",
        "\n",
        "# Predict the labels on validation dataset\n",
        "predictions = knn.predict(valid_data_flat_np)\n",
        "\n",
        "# Evaluate the model\n",
        "accuracy = accuracy_score(valid_labels_np, predictions)\n",
        "\n",
        "print(f'Validation Accuracy: {accuracy}')\n"
      ],
      "metadata": {
        "id": "TXhaJ9TBMsnS",
        "outputId": "2276a5a5-2aae-48c8-db46-d5ce0fbb6621",
        "colab": {
          "base_uri": "https://localhost:8080/"
        }
      },
      "id": "TXhaJ9TBMsnS",
      "execution_count": 8,
      "outputs": [
        {
          "output_type": "stream",
          "name": "stdout",
          "text": [
            "Validation Accuracy: 0.9996\n"
          ]
        }
      ]
    },
    {
      "cell_type": "code",
      "source": [
        "from sklearn.metrics import classification_report, confusion_matrix, precision_score, recall_score, f1_score\n",
        "import seaborn as sns\n",
        "import matplotlib.pyplot as plt\n",
        "\n",
        "# ... (after fitting the KNN model and predicting the labels)\n",
        "\n",
        "# Confusion Matrix\n",
        "conf_matrix = confusion_matrix(valid_labels_np, predictions)\n",
        "print(\"Confusion Matrix:\\n\", conf_matrix)\n",
        "\n",
        "# Plotting the confusion matrix\n",
        "plt.figure(figsize=(10, 8))\n",
        "sns.heatmap(conf_matrix, annot=True, fmt='d', cmap='Blues', xticklabels=range(1, 3), yticklabels=range(1, 3))\n",
        "plt.title('Confusion Matrix')\n",
        "plt.ylabel('True Label')\n",
        "plt.xlabel('Predicted Label')\n",
        "plt.show()\n",
        "\n",
        "# Precision, Recall, F1 scores for each class\n",
        "precision = precision_score(valid_labels_np, predictions, average=None)\n",
        "recall = recall_score(valid_labels_np, predictions, average=None)\n",
        "f1 = f1_score(valid_labels_np, predictions, average=None)\n",
        "\n",
        "print(f'Precision per class: {precision}')\n",
        "print(f'Recall per class: {recall}')\n",
        "print(f'F1 score per class: {f1}')\n",
        "\n",
        "# A combined report with all the above metrics\n",
        "classification_report = classification_report(valid_labels_np, predictions)\n",
        "print(\"Classification Report:\\n\", classification_report)\n",
        "\n",
        "# To get the overall average precision, recall, and F1-score (not per class)\n",
        "precision_overall = precision_score(valid_labels_np, predictions, average='macro')\n",
        "recall_overall = recall_score(valid_labels_np, predictions, average='macro')\n",
        "f1_overall = f1_score(valid_labels_np, predictions, average='macro')\n",
        "\n",
        "print(f'Overall Precision: {precision_overall}')\n",
        "print(f'Overall Recall: {recall_overall}')\n",
        "print(f'Overall F1 Score: {f1_overall}')\n"
      ],
      "metadata": {
        "id": "ZiYzYcIVOJdG",
        "outputId": "bb275a3a-0978-4f72-a2cf-02e52b2635f0",
        "colab": {
          "base_uri": "https://localhost:8080/",
          "height": 1000
        }
      },
      "id": "ZiYzYcIVOJdG",
      "execution_count": 18,
      "outputs": [
        {
          "output_type": "stream",
          "name": "stdout",
          "text": [
            "Confusion Matrix:\n",
            " [[4064    0]\n",
            " [   2  934]]\n"
          ]
        },
        {
          "output_type": "display_data",
          "data": {
            "text/plain": [
              "<Figure size 1000x800 with 2 Axes>"
            ],
            "image/png": "[encoded data removed]"
          },
          "metadata": {}
        },
        {
          "output_type": "stream",
          "name": "stdout",
          "text": [
            "Precision per class: [0.99950812 1.        ]\n",
            "Recall per class: [1.         0.99786325]\n",
            "F1 score per class: [0.999754   0.99893048]\n",
            "Classification Report:\n",
            "               precision    recall  f1-score   support\n",
            "\n",
            "           0       1.00      1.00      1.00      4064\n",
            "           1       1.00      1.00      1.00       936\n",
            "\n",
            "    accuracy                           1.00      5000\n",
            "   macro avg       1.00      1.00      1.00      5000\n",
            "weighted avg       1.00      1.00      1.00      5000\n",
            "\n",
            "Overall Precision: 0.999754058042302\n",
            "Overall Recall: 0.9989316239316239\n",
            "Overall F1 Score: 0.9993422394116989\n"
          ]
        }
      ]
    },
    {
      "cell_type": "markdown",
      "source": [
        "ANN Method"
      ],
      "metadata": {
        "id": "O0p4iPWtN1bF"
      },
      "id": "O0p4iPWtN1bF"
    },
    {
      "cell_type": "code",
      "source": [
        "import torch.nn as nn\n",
        "import torch.nn.functional as F\n",
        "from torch.utils.data import TensorDataset, DataLoader\n",
        "from torch.optim import Adam\n",
        "\n",
        "# Assuming you have train_CSI_modulus_normalized, valid_CSI_modulus_normalized, train_labels, and valid_labels\n",
        "\n",
        "# Flatten the data\n",
        "train_data_flat = train_CSI_modulus_normalized.reshape(train_CSI_modulus_normalized.shape[0], -1)\n",
        "valid_data_flat = valid_CSI_modulus_normalized.reshape(valid_CSI_modulus_normalized.shape[0], -1)\n",
        "\n",
        "# Create Dataset objects\n",
        "train_dataset = TensorDataset(train_data_flat, train_label)\n",
        "valid_dataset = TensorDataset(valid_data_flat, valid_label)\n",
        "\n",
        "# Create DataLoaders\n",
        "train_loader = DataLoader(dataset=train_dataset, batch_size=64, shuffle=True)\n",
        "valid_loader = DataLoader(dataset=valid_dataset, batch_size=64, shuffle=False)\n",
        "\n",
        "# Define the ANN model\n",
        "class ANNModel(nn.Module):\n",
        "    def __init__(self):\n",
        "        super(ANNModel, self).__init__()\n",
        "        self.fc1 = nn.Linear(train_data_flat.shape[1], 128)  # Assuming the flattened size is the second dimension\n",
        "        self.fc2 = nn.Linear(128, 64)\n",
        "        self.fc3 = nn.Linear(64, 32)\n",
        "        self.fc4 = nn.Linear(32, 10)  # Change the number 10 to the number of classes you have\n",
        "\n",
        "    def forward(self, x):\n",
        "        x = F.relu(self.fc1(x))\n",
        "        x = F.relu(self.fc2(x))\n",
        "        x = F.relu(self.fc3(x))\n",
        "        x = self.fc4(x)  # No activation, as it will be included in the loss function\n",
        "        return x\n",
        "\n",
        "# Initialize the model\n",
        "model = ANNModel()\n",
        "\n",
        "# Define a loss function and optimizer\n",
        "criterion = nn.CrossEntropyLoss()  # For classification problems with N classes\n",
        "optimizer = Adam(model.parameters(), lr=0.001)\n",
        "\n",
        "# Train the model\n",
        "num_epochs = 10  # Set the number of epochs\n",
        "for epoch in range(num_epochs):\n",
        "    model.train()  # Set the model to training mode\n",
        "    for inputs, targets in train_loader:\n",
        "        optimizer.zero_grad()  # Zero the gradient buffers\n",
        "        outputs = model(inputs)  # Forward pass\n",
        "        loss = criterion(outputs, targets)  # Calculate loss\n",
        "        loss.backward()  # Backward pass\n",
        "        optimizer.step()  # Update weights\n",
        "\n",
        "    print(f'Epoch {epoch+1}/{num_epochs}, Loss: {loss.item()}')\n",
        "\n",
        "# Evaluate the model\n",
        "model.eval()  # Set the model to evaluation mode\n",
        "all_predictions = []\n",
        "all_targets = []\n",
        "with torch.no_grad():  # Gradient computation is not needed for evaluation\n",
        "    for inputs, targets in valid_loader:\n",
        "        outputs = model(inputs)\n",
        "        _, predicted = torch.max(outputs, 1)  # Get the class with the highest output\n",
        "        all_predictions.extend(predicted.numpy())\n",
        "        all_targets.extend(targets.numpy())\n",
        "\n",
        "# Calculate validation accuracy\n",
        "accuracy = (np.array(all_predictions) == np.array(all_targets)).mean()\n",
        "print(f'Validation Accuracy: {accuracy}')\n"
      ],
      "metadata": {
        "id": "uFsO9zv-NyS7",
        "outputId": "43d474e7-45fe-44dd-a715-a7392cc04148",
        "colab": {
          "base_uri": "https://localhost:8080/"
        }
      },
      "id": "uFsO9zv-NyS7",
      "execution_count": 12,
      "outputs": [
        {
          "output_type": "stream",
          "name": "stdout",
          "text": [
            "Epoch 1/10, Loss: 0.11276081949472427\n",
            "Epoch 2/10, Loss: 0.1809563785791397\n",
            "Epoch 3/10, Loss: 0.13016720116138458\n",
            "Epoch 4/10, Loss: 0.13642017543315887\n",
            "Epoch 5/10, Loss: 0.05558006465435028\n",
            "Epoch 6/10, Loss: 0.034663669764995575\n",
            "Epoch 7/10, Loss: 0.09539517760276794\n",
            "Epoch 8/10, Loss: 0.008803298696875572\n",
            "Epoch 9/10, Loss: 0.028042078018188477\n",
            "Epoch 10/10, Loss: 0.05815742909908295\n",
            "Validation Accuracy: 0.9502\n"
          ]
        }
      ]
    },
    {
      "cell_type": "markdown",
      "source": [
        "Showing the ANN model"
      ],
      "metadata": {
        "id": "t2HMIRPbRt4I"
      },
      "id": "t2HMIRPbRt4I"
    },
    {
      "cell_type": "code",
      "source": [
        "from graphviz import Digraph\n",
        "\n",
        "def draw_model():\n",
        "    dot = Digraph(format='png')\n",
        "    dot.attr(rankdir='LR')  # Left to Right Graph\n",
        "\n",
        "    # Nodes\n",
        "    dot.node('Input', 'Input\\n(1x4x1632)')\n",
        "    dot.node('FC1', 'FC1\\n(128)')\n",
        "    dot.node('ReLU1', 'ReLU')\n",
        "    dot.node('FC2', 'FC2\\n(64)')\n",
        "    dot.node('ReLU2', 'ReLU')\n",
        "    dot.node('FC3', 'FC3\\n(32)')\n",
        "    dot.node('ReLU3', 'ReLU')\n",
        "    dot.node('Output', 'Output\\n(10)')\n",
        "\n",
        "    # Edges\n",
        "    dot.edge('Input', 'FC1')\n",
        "    dot.edge('FC1', 'ReLU1')\n",
        "    dot.edge('ReLU1', 'FC2')\n",
        "    dot.edge('FC2', 'ReLU2')\n",
        "    dot.edge('ReLU2', 'FC3')\n",
        "    dot.edge('FC3', 'ReLU3')\n",
        "    dot.edge('ReLU3', 'Output')\n",
        "\n",
        "    return dot\n",
        "\n",
        "# Call the function and render the diagram\n",
        "dot = draw_model()\n",
        "dot.render('ann_model_diagram')\n"
      ],
      "metadata": {
        "id": "iOtqiptpPwbb",
        "outputId": "a5d5d0d6-fdfa-457b-aadc-31d804e3945a",
        "colab": {
          "base_uri": "https://localhost:8080/",
          "height": 36
        }
      },
      "id": "iOtqiptpPwbb",
      "execution_count": 15,
      "outputs": [
        {
          "output_type": "execute_result",
          "data": {
            "text/plain": [
              "'ann_model_diagram.png'"
            ],
            "application/vnd.google.colaboratory.intrinsic+json": {
              "type": "string"
            }
          },
          "metadata": {},
          "execution_count": 15
        }
      ]
    },
    {
      "cell_type": "code",
      "source": [
        "from sklearn.metrics import classification_report\n",
        "\n",
        "# Assuming you have all_predictions and all_targets from your ANN predictions\n",
        "\n",
        "# Calculate precision, recall, and F1 score for each class\n",
        "precision_per_class = precision_score(all_targets, all_predictions, average=None)\n",
        "recall_per_class = recall_score(all_targets, all_predictions, average=None)\n",
        "f1_per_class = f1_score(all_targets, all_predictions, average=None)\n",
        "\n",
        "# Calculate overall precision, recall, and F1 score\n",
        "precision_overall = precision_score(all_targets, all_predictions, average='macro')\n",
        "recall_overall = recall_score(all_targets, all_predictions, average='macro')\n",
        "f1_overall = f1_score(all_targets, all_predictions, average='macro')\n",
        "\n",
        "# Print the metrics for each class\n",
        "print(f'Precision per class: {precision_per_class}')\n",
        "print(f'Recall per class: {recall_per_class}')\n",
        "print(f'F1 score per class: {f1_per_class}')\n",
        "\n",
        "# Print the overall metrics\n",
        "print(f'Overall Precision: {precision_overall}')\n",
        "print(f'Overall Recall: {recall_overall}')\n",
        "print(f'Overall F1 Score: {f1_overall}')\n",
        "\n",
        "# Generate the classification report\n",
        "report = classification_report(all_targets, all_predictions)\n",
        "print(\"Classification Report:\\n\", report)\n",
        "\n",
        "# Confusion Matrix\n",
        "conf_matrix = confusion_matrix(all_targets, all_predictions)\n",
        "print('Confusion Matrix:\\n', conf_matrix)\n",
        "\n",
        "# Visual representation of the confusion matrix\n",
        "plt.figure(figsize=(10, 7))\n",
        "sns.heatmap(conf_matrix, annot=True, fmt='g')\n",
        "plt.xlabel('Predicted labels')\n",
        "plt.ylabel('True labels')\n",
        "plt.show()\n"
      ],
      "metadata": {
        "id": "d4L1Abd6RxTZ",
        "outputId": "b3dde547-5c5d-4c25-d0c8-192ad37b238a",
        "colab": {
          "base_uri": "https://localhost:8080/",
          "height": 968
        }
      },
      "id": "d4L1Abd6RxTZ",
      "execution_count": 20,
      "outputs": [
        {
          "output_type": "stream",
          "name": "stdout",
          "text": [
            "Precision per class: [0.94226756 1.        ]\n",
            "Recall per class: [1.         0.73397436]\n",
            "F1 score per class: [0.97027576 0.84658041]\n",
            "Overall Precision: 0.9711337815905402\n",
            "Overall Recall: 0.8669871794871795\n",
            "Overall F1 Score: 0.9084280808489578\n",
            "Classification Report:\n",
            "               precision    recall  f1-score   support\n",
            "\n",
            "           0       0.94      1.00      0.97      4064\n",
            "           1       1.00      0.73      0.85       936\n",
            "\n",
            "    accuracy                           0.95      5000\n",
            "   macro avg       0.97      0.87      0.91      5000\n",
            "weighted avg       0.95      0.95      0.95      5000\n",
            "\n",
            "Confusion Matrix:\n",
            " [[4064    0]\n",
            " [ 249  687]]\n"
          ]
        },
        {
          "output_type": "display_data",
          "data": {
            "text/plain": [
              "<Figure size 1000x700 with 2 Axes>"
            ],
            "image/png": "[encoded data removed]"
          },
          "metadata": {}
        }
      ]
    }
  ],
  "metadata": {
    "kernelspec": {
      "display_name": "Python 3",
      "language": "python",
      "name": "python3"
    },
    "language_info": {
      "codemirror_mode": {
        "name": "ipython",
        "version": 3
      },
      "file_extension": ".py",
      "mimetype": "text/x-python",
      "name": "python",
      "nbconvert_exporter": "python",
      "pygments_lexer": "ipython3",
      "version": "3.9.17"
    },
    "colab": {
      "provenance": []
    }
  },
  "nbformat": 4,
  "nbformat_minor": 5
}